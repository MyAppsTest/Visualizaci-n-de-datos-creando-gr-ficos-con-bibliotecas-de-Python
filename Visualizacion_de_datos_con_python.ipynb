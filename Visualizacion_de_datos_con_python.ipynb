{
  "nbformat": 4,
  "nbformat_minor": 0,
  "metadata": {
    "colab": {
      "provenance": []
    },
    "kernelspec": {
      "name": "python3",
      "display_name": "Python 3"
    },
    "language_info": {
      "name": "python"
    }
  },
  "cells": [
    {
      "cell_type": "markdown",
      "source": [
        "# Visualizacion de datos con Python: Matplotlib, Seaborn y Plotly"
      ],
      "metadata": {
        "id": "DB4tr0o-Agl6"
      }
    },
    {
      "cell_type": "code",
      "execution_count": null,
      "metadata": {
        "id": "ohujNH_JAaio"
      },
      "outputs": [],
      "source": []
    }
  ]
}