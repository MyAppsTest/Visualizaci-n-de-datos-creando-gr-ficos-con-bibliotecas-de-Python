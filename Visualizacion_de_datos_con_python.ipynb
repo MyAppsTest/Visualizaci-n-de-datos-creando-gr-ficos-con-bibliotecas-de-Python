{
  "nbformat": 4,
  "nbformat_minor": 0,
  "metadata": {
    "colab": {
      "provenance": [],
      "authorship_tag": "ABX9TyOL7g1h56LTFIZ80HBDhzMH",
      "include_colab_link": true
    },
    "kernelspec": {
      "name": "python3",
      "display_name": "Python 3"
    },
    "language_info": {
      "name": "python"
    }
  },
  "cells": [
    {
      "cell_type": "markdown",
      "metadata": {
        "id": "view-in-github",
        "colab_type": "text"
      },
      "source": [
        "<a href=\"https://colab.research.google.com/github/MyAppsTest/Visualizaci-n-de-datos-creando-gr-ficos-con-bibliotecas-de-Python/blob/main/Visualizacion_de_datos_con_python.ipynb\" target=\"_parent\"><img src=\"https://colab.research.google.com/assets/colab-badge.svg\" alt=\"Open In Colab\"/></a>"
      ]
    },
    {
      "cell_type": "markdown",
      "source": [
        "# Visualizacion de datos con Python: Matplotlib, Seaborn y Plotly"
      ],
      "metadata": {
        "id": "DB4tr0o-Agl6"
      }
    },
    {
      "cell_type": "code",
      "execution_count": null,
      "metadata": {
        "id": "ohujNH_JAaio"
      },
      "outputs": [],
      "source": []
    }
  ]
}